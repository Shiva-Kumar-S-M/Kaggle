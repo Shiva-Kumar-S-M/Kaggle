{
 "cells": [
  {
   "cell_type": "code",
   "execution_count": 1,
   "id": "54ceaef0",
   "metadata": {
    "_cell_guid": "b1076dfc-b9ad-4769-8c92-a6c4dae69d19",
    "_uuid": "8f2839f25d086af736a60e9eeb907d3b93b6e0e5",
    "execution": {
     "iopub.execute_input": "2024-11-18T05:09:17.434930Z",
     "iopub.status.busy": "2024-11-18T05:09:17.434373Z",
     "iopub.status.idle": "2024-11-18T05:09:18.434132Z",
     "shell.execute_reply": "2024-11-18T05:09:18.432971Z"
    },
    "papermill": {
     "duration": 1.00701,
     "end_time": "2024-11-18T05:09:18.436979",
     "exception": false,
     "start_time": "2024-11-18T05:09:17.429969",
     "status": "completed"
    },
    "tags": []
   },
   "outputs": [],
   "source": [
    "# This Python 3 environment comes with many helpful analytics libraries installed\n",
    "# It is defined by the kaggle/python Docker image: https://github.com/kaggle/docker-python\n",
    "# For example, here's several helpful packages to load\n",
    "\n",
    "import numpy as np # linear algebra\n",
    "import pandas as pd # data processing, CSV file I/O (e.g. pd.read_csv)\n",
    "\n",
    "# Input data files are available in the read-only \"../input/\" directory\n",
    "# For example, running this (by clicking run or pressing Shift+Enter) will list all files under the input directory\n",
    "\n",
    "import os\n",
    "for dirname, _, filenames in os.walk('/kaggle/input'):\n",
    "    for filename in filenames:\n",
    "        print(os.path.join(dirname, filename))\n",
    "\n",
    "# You can write up to 20GB to the current directory (/kaggle/working/) that gets preserved as output when you create a version using \"Save & Run All\" \n",
    "# You can also write temporary files to /kaggle/temp/, but they won't be saved outside of the current session"
   ]
  },
  {
   "cell_type": "code",
   "execution_count": 2,
   "id": "b762be4f",
   "metadata": {
    "execution": {
     "iopub.execute_input": "2024-11-18T05:09:18.443431Z",
     "iopub.status.busy": "2024-11-18T05:09:18.442914Z",
     "iopub.status.idle": "2024-11-18T05:09:18.449053Z",
     "shell.execute_reply": "2024-11-18T05:09:18.447778Z"
    },
    "papermill": {
     "duration": 0.01265,
     "end_time": "2024-11-18T05:09:18.452022",
     "exception": false,
     "start_time": "2024-11-18T05:09:18.439372",
     "status": "completed"
    },
    "tags": []
   },
   "outputs": [
    {
     "name": "stdout",
     "output_type": "stream",
     "text": [
      "hello world\n"
     ]
    }
   ],
   "source": [
    "print(\"hello world\")"
   ]
  },
  {
   "cell_type": "code",
   "execution_count": 3,
   "id": "b06b5783",
   "metadata": {
    "execution": {
     "iopub.execute_input": "2024-11-18T05:09:18.458054Z",
     "iopub.status.busy": "2024-11-18T05:09:18.457621Z",
     "iopub.status.idle": "2024-11-18T05:09:18.463293Z",
     "shell.execute_reply": "2024-11-18T05:09:18.462004Z"
    },
    "papermill": {
     "duration": 0.011844,
     "end_time": "2024-11-18T05:09:18.466091",
     "exception": false,
     "start_time": "2024-11-18T05:09:18.454247",
     "status": "completed"
    },
    "tags": []
   },
   "outputs": [
    {
     "name": "stdout",
     "output_type": "stream",
     "text": [
      "6\n"
     ]
    }
   ],
   "source": [
    "# Multiply 3 by 2\n",
    "print(3 * 2)"
   ]
  },
  {
   "cell_type": "code",
   "execution_count": null,
   "id": "a6a4ab0a",
   "metadata": {
    "papermill": {
     "duration": 0.001997,
     "end_time": "2024-11-18T05:09:18.470450",
     "exception": false,
     "start_time": "2024-11-18T05:09:18.468453",
     "status": "completed"
    },
    "tags": []
   },
   "outputs": [],
   "source": []
  }
 ],
 "metadata": {
  "kaggle": {
   "accelerator": "none",
   "dataSources": [],
   "dockerImageVersionId": 30786,
   "isGpuEnabled": false,
   "isInternetEnabled": false,
   "language": "python",
   "sourceType": "notebook"
  },
  "kernelspec": {
   "display_name": "Python 3",
   "language": "python",
   "name": "python3"
  },
  "language_info": {
   "codemirror_mode": {
    "name": "ipython",
    "version": 3
   },
   "file_extension": ".py",
   "mimetype": "text/x-python",
   "name": "python",
   "nbconvert_exporter": "python",
   "pygments_lexer": "ipython3",
   "version": "3.10.14"
  },
  "papermill": {
   "default_parameters": {},
   "duration": 4.439629,
   "end_time": "2024-11-18T05:09:18.995568",
   "environment_variables": {},
   "exception": null,
   "input_path": "__notebook__.ipynb",
   "output_path": "__notebook__.ipynb",
   "parameters": {},
   "start_time": "2024-11-18T05:09:14.555939",
   "version": "2.6.0"
  }
 },
 "nbformat": 4,
 "nbformat_minor": 5
}
